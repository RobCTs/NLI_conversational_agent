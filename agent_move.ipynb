{
 "cells": [
  {
   "cell_type": "code",
   "execution_count": 170,
   "metadata": {},
   "outputs": [],
   "source": [
    "from datasets import load_dataset\n",
    "\n",
    "dataset = load_dataset(\"multi_woz_v22\")\n",
    "train_data = dataset['train']\n",
    "val_data = dataset['validation']\n",
    "test_data = dataset['test']"
   ]
  },
  {
   "cell_type": "code",
   "execution_count": 171,
   "metadata": {},
   "outputs": [],
   "source": [
    "def filterDomains(data):\n",
    "    \n",
    "    return [entry for entry in data if set(entry[\"services\"]).issubset({\"restaurant\", \"hotel\", \"booking\"}) and len(entry[\"services\"]) == 1]\n",
    "# Only keep dialogues related to Restaurants or Hotels.\n",
    "\n",
    "train_data_filtered = filterDomains(train_data)\n",
    "val_data_filtered = filterDomains(val_data)\n",
    "test_data_filtered = filterDomains(test_data)"
   ]
  },
  {
   "cell_type": "code",
   "execution_count": 172,
   "metadata": {},
   "outputs": [],
   "source": [
    "def add_data_to_be_retrieved(dataset, print_dialogue=False):\n",
    "    \"\"\"\n",
    "    Augment the dataset with the following information:\n",
    "    - Information to be retrieved (ground truth)\n",
    "    \n",
    "    Heavily inspired by the code from the evaluation script.\n",
    "    \"\"\"\n",
    "    \n",
    "    for dialogue in dataset:\n",
    "        turns = dialogue[\"turns\"]\n",
    "        turns[\"to_be_retrieved_ground_truth\"] = {turn_id: [] for turn_id in range(len(turns[\"turn_id\"]))}\n",
    "        \n",
    "        \n",
    "        for turn_id, _ in enumerate(turns[\"turn_id\"]):\n",
    "            # If it is SYSTEM turn:\n",
    "            if turns[\"speaker\"][turn_id]:\n",
    "                slot_names_per_act = [slot['slot_name'] for slot in turns['dialogue_acts'][turn_id]['dialog_act']['act_slots']]\n",
    "                slot_values_per_act = [slot['slot_value'] for slot in turns['dialogue_acts'][turn_id]['dialog_act']['act_slots']]\n",
    "                dialogue_acts = turns['dialogue_acts'][turn_id]['dialog_act']['act_type']\n",
    "                services = turns['frames'][turn_id]['service']\n",
    "                current_booking_service = [service for service in services if service in [\"hotel\", \"restaurant\"]]\n",
    "\n",
    "                to_be_retrieved_ground_truth = []\n",
    "                for act_i in range(len(slot_names_per_act)):\n",
    "                    domain = dialogue_acts[act_i].split(\"-\")[0].lower()\n",
    "                    if domain == \"booking\" and len(current_booking_service) ==1:\n",
    "                        domain = current_booking_service[0]\n",
    "                    slot_names = [domain+\"-\"+slot_names_per_act[act_i][slot_i] for slot_i in range(len(slot_names_per_act[act_i]))\n",
    "                                    if slot_values_per_act[act_i][slot_i]!=\"?\" and slot_names_per_act[act_i][slot_i]!=\"none\"]\n",
    "                    if slot_names:\n",
    "                        to_be_retrieved_slot_names = [\"%s-availability\" % (domain)] + slot_names\n",
    "                        while domain+\"-choice\" in to_be_retrieved_slot_names:\n",
    "                            del to_be_retrieved_slot_names[to_be_retrieved_slot_names.index(domain+\"-choice\")]\n",
    "                        to_be_retrieved_ground_truth.extend(to_be_retrieved_slot_names)\n",
    "                to_be_retrieved_ground_truth = sorted(list(set(to_be_retrieved_ground_truth)))\n",
    "                \n",
    "                # augment the dataset\n",
    "                turns[\"to_be_retrieved_ground_truth\"][turn_id].extend(to_be_retrieved_ground_truth)\n",
    "                \n",
    "                if print_dialogue:\n",
    "                    print(f\"Utterance: {turns['utterance'][turn_id]}\")\n",
    "                    print(f\"To be retrieved: {to_be_retrieved_ground_truth}\")\n",
    "        if print_dialogue:        \n",
    "            print(\"-\"*50)\n",
    "                       "
   ]
  },
  {
   "cell_type": "code",
   "execution_count": 173,
   "metadata": {},
   "outputs": [],
   "source": [
    "def add_data_to_be_provided(dataset):\n",
    "    \"\"\"\n",
    "    Augment the dataset with the following information:\n",
    "    - Information to be provided (ground truth)\n",
    "    \n",
    "    Heavily inspired by the code from the evaluation script.\n",
    "    \"\"\"\n",
    "    for dialogue in dataset:\n",
    "        turns = dialogue[\"turns\"]\n",
    "        turns[\"to_be_provided_overall\"] = {turn_id: [] for turn_id in range(len(turns[\"turn_id\"]))}\n",
    "        \n",
    "        \n",
    "        for turn_id, _ in enumerate(turns[\"turn_id\"]):\n",
    "            # If it is SYSTEM turn:\n",
    "            if turns[\"speaker\"][turn_id]:\n",
    "                slot_names_per_act = [slot['slot_name'] for slot in turns['dialogue_acts'][turn_id]['dialog_act']['act_slots']]\n",
    "                slot_values_per_act = [slot['slot_value'] for slot in turns['dialogue_acts'][turn_id]['dialog_act']['act_slots']]\n",
    "                dialogue_acts = turns['dialogue_acts'][turn_id]['dialog_act']['act_type']\n",
    "                services = turns['frames'][turn_id]['service']\n",
    "                current_booking_service = [service for service in services if service in [\"hotel\", \"restaurant\"]]\n",
    "                to_be_provided_overall = []\n",
    "                \n",
    "                for act_i in range(len(slot_names_per_act)):\n",
    "                    domain = dialogue_acts[act_i].split(\"-\")[0].lower()\n",
    "                    if domain == \"booking\" and len(current_booking_service)==1:\n",
    "                        domain = current_booking_service[0]\n",
    "                    if domain in [\"hotel\", \"restaurant\", \"booking\", \"general\"]:\n",
    "                        slot_names_vlues = [domain+\"-\"+slot_names_per_act[act_i][slot_i]+\":\"+slot_values_per_act[act_i][slot_i] for slot_i in range(len(slot_names_per_act[act_i]))\n",
    "                                            if slot_values_per_act[act_i][slot_i]!=\"?\" and slot_names_per_act[act_i][slot_i]!=\"none\"]\n",
    "                        if slot_names_vlues and any((slot_name_value.split(\":\")[0]!=domain+\"-none\" for slot_name_value in slot_names_vlues)) and not \"-No\" in dialogue_acts[act_i]:\n",
    "                            to_be_provided = [\"%s-availability:yes\" % (domain)] + slot_names_vlues\n",
    "                            to_be_provided_overall.extend(to_be_provided)\n",
    "                        elif \"-No\" in dialogue_acts[act_i]:\n",
    "                            to_be_provided = [\"%s-availability:no\" % (domain)] + slot_names_vlues\n",
    "                            to_be_provided_overall.extend(to_be_provided)\n",
    "                to_be_provided_overall = sorted(list(set(to_be_provided_overall)))\n",
    "                remove_avail_no_list = [elem for elem in to_be_provided_overall if elem.endswith(\"availability:no\")]\n",
    "                for remove_avail in remove_avail_no_list:\n",
    "                    remove_avail_yes = remove_avail[:-2]+\"yes\"\n",
    "                    while remove_avail_yes in to_be_provided_overall:\n",
    "                        del to_be_provided_overall[to_be_provided_overall.index(remove_avail_yes)]\n",
    "                turns[\"to_be_provided_overall\"][turn_id].extend(to_be_provided_overall)"
   ]
  },
  {
   "cell_type": "code",
   "execution_count": 175,
   "metadata": {},
   "outputs": [],
   "source": [
    "add_data_to_be_provided(train_data_filtered)\n",
    "add_data_to_be_retrieved(train_data_filtered)"
   ]
  },
  {
   "cell_type": "code",
   "execution_count": 180,
   "metadata": {},
   "outputs": [
    {
     "name": "stdout",
     "output_type": "stream",
     "text": [
      "I have 4 different options for you. I have two cheaper guesthouses and two expensive hotels. Do you have a preference?\n",
      "To be provided: \n",
      "['hotel-availability:yes', 'hotel-choice:4', 'hotel-pricerange:cheaper', 'hotel-pricerange:expensive', 'hotel-type:guesthouses', 'hotel-type:hotels']\n",
      "To be retrieved: \n",
      "['hotel-availability', 'hotel-pricerange', 'hotel-type']\n",
      "--------------------------------------------------\n",
      "I've heard good things about the lucky star. Need a reservation?\n",
      "To be provided: \n",
      "['restaurant-availability:yes', 'restaurant-name:the lucky star']\n",
      "To be retrieved: \n",
      "['restaurant-availability', 'restaurant-name']\n",
      "--------------------------------------------------\n",
      "Eraina is a European restaurant in the centre area. Their address is St. Michael's Church Trinity Street City Centre and phone number 01223 355166.\n",
      "To be provided: \n",
      "[\"restaurant-address:St. Michael's Church Trinity Street City Centre\", 'restaurant-area:centre', 'restaurant-availability:yes', 'restaurant-food:European', 'restaurant-name:Eraina', 'restaurant-phone:01223 355166']\n",
      "To be retrieved: \n",
      "['restaurant-address', 'restaurant-area', 'restaurant-availability', 'restaurant-food', 'restaurant-name', 'restaurant-phone']\n",
      "--------------------------------------------------\n",
      "There are results matching your query. Would you like Mexican, Italian, Chinese, or Indian?\n",
      "To be provided: \n",
      "['restaurant-availability:yes', 'restaurant-choice:results', 'restaurant-food:Chinese', 'restaurant-food:Indian', 'restaurant-food:Italian', 'restaurant-food:Mexican']\n",
      "To be retrieved: \n",
      "['restaurant-availability', 'restaurant-food']\n",
      "--------------------------------------------------\n",
      "I'm sorry. There is no matching restaurant. Would you like to try a different food type or area?\n",
      "To be provided: \n",
      "['restaurant-availability:no']\n",
      "To be retrieved: \n",
      "[]\n",
      "--------------------------------------------------\n",
      "It is an expensive British restaurant on the west side of town. Would you like the address?\n",
      "To be provided: \n",
      "['restaurant-area:the west side', 'restaurant-availability:yes', 'restaurant-food:British', 'restaurant-pricerange:expensive']\n",
      "To be retrieved: \n",
      "['restaurant-area', 'restaurant-availability', 'restaurant-food', 'restaurant-pricerange']\n",
      "--------------------------------------------------\n",
      "I actually cannot find any expensive restaurants with north african food. There is however an expensive restaurant with african food. Would that be okay?\n",
      "To be provided: \n",
      "['restaurant-availability:no', 'restaurant-food:african', 'restaurant-food:north african', 'restaurant-pricerange:expensive']\n",
      "To be retrieved: \n",
      "['restaurant-availability', 'restaurant-food', 'restaurant-pricerange']\n",
      "--------------------------------------------------\n",
      "Is there a price range or type of food that you would prefer?\n",
      "To be provided: \n",
      "[]\n",
      "To be retrieved: \n",
      "[]\n",
      "--------------------------------------------------\n",
      "I'm sorry, but there aren't any places that meet those qualifications. Would you like to try a different part of town?\n",
      "To be provided: \n",
      "['hotel-availability:no']\n",
      "To be retrieved: \n",
      "[]\n",
      "--------------------------------------------------\n",
      "Ask is an italian place in the centre area, they are in the cheap price range. Can I help with anything else?\n",
      "To be provided: \n",
      "['restaurant-area:centre', 'restaurant-availability:yes', 'restaurant-food:Italian', 'restaurant-name:Ask', 'restaurant-pricerange:cheap']\n",
      "To be retrieved: \n",
      "['restaurant-area', 'restaurant-availability', 'restaurant-food', 'restaurant-name', 'restaurant-pricerange']\n",
      "--------------------------------------------------\n"
     ]
    }
   ],
   "source": [
    "\n",
    "for turn_id in range(10):\n",
    "    print(train_data_filtered[turn_id][\"turns\"][\"utterance\"][1])\n",
    "    print(\"To be provided: \")\n",
    "    print(train_data_filtered[turn_id][\"turns\"][\"to_be_provided_overall\"][1])\n",
    "    print(\"To be retrieved: \")\n",
    "    print(train_data_filtered[turn_id][\"turns\"][\"to_be_retrieved_ground_truth\"][1])\n",
    "    print(\"-\"*50)"
   ]
  },
  {
   "cell_type": "markdown",
   "metadata": {},
   "source": [
    "# 1. Predict what shall be retrieved"
   ]
  },
  {
   "cell_type": "markdown",
   "metadata": {},
   "source": [
    "#### Idea: Predict what the agent should retrieve based on the user utterance, dialogue act and the previous agent utterance.\n",
    "    "
   ]
  },
  {
   "cell_type": "markdown",
   "metadata": {},
   "source": [
    "# 2. Predict dialogue acts of the agent"
   ]
  },
  {
   "cell_type": "markdown",
   "metadata": {},
   "source": [
    "#### We can and should use the results of the retrieval, i.e. use slots which we requested at the first step and their values (including \"yes/no\" for the availability slot)"
   ]
  },
  {
   "cell_type": "markdown",
   "metadata": {},
   "source": [
    "# 3. Predict what information shall be requested"
   ]
  },
  {
   "cell_type": "markdown",
   "metadata": {},
   "source": [
    "#### Once again using the results of the retrieval and likely the user's utterance and dialogue act"
   ]
  }
 ],
 "metadata": {
  "kernelspec": {
   "display_name": "rl-lab",
   "language": "python",
   "name": "python3"
  },
  "language_info": {
   "codemirror_mode": {
    "name": "ipython",
    "version": 3
   },
   "file_extension": ".py",
   "mimetype": "text/x-python",
   "name": "python",
   "nbconvert_exporter": "python",
   "pygments_lexer": "ipython3",
   "version": "3.9.18"
  }
 },
 "nbformat": 4,
 "nbformat_minor": 2
}
