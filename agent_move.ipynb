{
 "cells": [
  {
   "cell_type": "code",
   "execution_count": 162,
   "metadata": {},
   "outputs": [],
   "source": [
    "from datasets import load_dataset\n",
    "\n",
    "dataset = load_dataset(\"multi_woz_v22\")\n",
    "train_data = dataset['train']\n",
    "val_data = dataset['validation']\n",
    "test_data = dataset['test']"
   ]
  },
  {
   "cell_type": "code",
   "execution_count": 163,
   "metadata": {},
   "outputs": [],
   "source": [
    "def filterDomains(data):\n",
    "    \n",
    "    return [entry for entry in data if set(entry[\"services\"]).issubset({\"restaurant\", \"hotel\", \"booking\"}) and len(entry[\"services\"]) == 1]\n",
    "# Only keep dialogues related to Restaurants or Hotels.\n",
    "\n",
    "train_data_filtered = filterDomains(train_data)\n",
    "val_data_filtered = filterDomains(val_data)\n",
    "test_data_filtered = filterDomains(test_data)"
   ]
  },
  {
   "cell_type": "code",
   "execution_count": 164,
   "metadata": {},
   "outputs": [],
   "source": [
    "def create_augmented_dialogue_data(dataset, print_dialogue=False):\n",
    "    \"\"\"\n",
    "    Augment the dataset with the following information:\n",
    "    - Information to be retrieved (ground truth)\n",
    "    \n",
    "    Heavily inspired by the code from the evaluation script.\n",
    "    \"\"\"\n",
    "    \n",
    "    for dialogue in dataset:\n",
    "        turns = dialogue[\"turns\"]\n",
    "        turns[\"to_be_retrieved_ground_truth\"] = {turn_id: [] for turn_id in range(len(turns[\"turn_id\"]))}\n",
    "        \n",
    "        \n",
    "        for turn_id, _ in enumerate(turns[\"turn_id\"]):\n",
    "            # If it is SYSTEM turn:\n",
    "            if turns[\"speaker\"][turn_id]:\n",
    "                slot_names_per_act = [slot['slot_name'] for slot in turns['dialogue_acts'][turn_id]['dialog_act']['act_slots']]\n",
    "                slot_values_per_act = [slot['slot_value'] for slot in turns['dialogue_acts'][turn_id]['dialog_act']['act_slots']]\n",
    "                dialogue_acts = turns['dialogue_acts'][turn_id]['dialog_act']['act_type']\n",
    "                services = turns['frames'][turn_id]['service']\n",
    "                current_booking_service = [service for service in services if service in [\"hotel\", \"restaurant\"]]\n",
    "\n",
    "                to_be_retrieved_ground_truth = []\n",
    "                for act_i in range(len(slot_names_per_act)):\n",
    "                    domain = dialogue_acts[act_i].split(\"-\")[0].lower()\n",
    "                    if domain == \"booking\" and len(current_booking_service) ==1:\n",
    "                        domain = current_booking_service[0]\n",
    "                    slot_names = [domain+\"-\"+slot_names_per_act[act_i][slot_i] for slot_i in range(len(slot_names_per_act[act_i]))\n",
    "                                    if slot_values_per_act[act_i][slot_i]!=\"?\" and slot_names_per_act[act_i][slot_i]!=\"none\"]\n",
    "                    if slot_names:\n",
    "                        to_be_retrieved_slot_names = [\"%s-availability\" % (domain)] + slot_names\n",
    "                        while domain+\"-choice\" in to_be_retrieved_slot_names:\n",
    "                            del to_be_retrieved_slot_names[to_be_retrieved_slot_names.index(domain+\"-choice\")]\n",
    "                        to_be_retrieved_ground_truth.extend(to_be_retrieved_slot_names)\n",
    "                to_be_retrieved_ground_truth = sorted(list(set(to_be_retrieved_ground_truth)))\n",
    "                \n",
    "                # augment the dataset\n",
    "                turns[\"to_be_retrieved_ground_truth\"][turn_id].extend(to_be_retrieved_ground_truth)\n",
    "                \n",
    "                if print_dialogue:\n",
    "                    print(f\"Utterance: {turns['utterance'][turn_id]}\")\n",
    "                    print(f\"To be retrieved: {to_be_retrieved_ground_truth}\")\n",
    "        if print_dialogue:        \n",
    "            print(\"-\"*50)\n",
    "                       "
   ]
  },
  {
   "cell_type": "code",
   "execution_count": 165,
   "metadata": {},
   "outputs": [],
   "source": [
    "create_augmented_dialogue_data(train_data_filtered, False)\n",
    "create_augmented_dialogue_data(val_data_filtered, False)\n",
    "create_augmented_dialogue_data(test_data_filtered, False)"
   ]
  }
 ],
 "metadata": {
  "kernelspec": {
   "display_name": "rl-lab",
   "language": "python",
   "name": "python3"
  },
  "language_info": {
   "codemirror_mode": {
    "name": "ipython",
    "version": 3
   },
   "file_extension": ".py",
   "mimetype": "text/x-python",
   "name": "python",
   "nbconvert_exporter": "python",
   "pygments_lexer": "ipython3",
   "version": "3.9.18"
  }
 },
 "nbformat": 4,
 "nbformat_minor": 2
}
