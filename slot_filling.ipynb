{
 "cells": [
  {
   "cell_type": "code",
   "execution_count": 66,
   "metadata": {},
   "outputs": [],
   "source": [
    "from datasets import load_dataset\n",
    "\n",
    "# Load the Train, Validation and Test data\n",
    "\n",
    "dataset = load_dataset(\"multi_woz_v22\")\n",
    "train_data = dataset['train']\n",
    "val_data = dataset['validation']\n",
    "test_data = dataset['test']"
   ]
  },
  {
   "cell_type": "code",
   "execution_count": 67,
   "metadata": {},
   "outputs": [],
   "source": [
    "def filterDomains(data):\n",
    "    \"\"\"\n",
    "    Filters a list of dictionaries by only including entries with services\n",
    "    either \"restaurant\" or \"hotel\" and having only one service.\n",
    "\n",
    "    Parameters:\n",
    "    - data: list of dictionaries containing a \"services\" key, which is a list of services.\n",
    "\n",
    "    Returns:\n",
    "    - List of filtered dictionaries.\n",
    "    \"\"\"\n",
    "    return [entry for entry in data if set(entry[\"services\"]).issubset({\"restaurant\", \"hotel\"})]\n",
    "\n",
    "# Only keep dialogues related to Restaurants or Hotels.\n",
    "\n",
    "train_data_filtered = filterDomains(train_data)\n",
    "val_data_filtered = filterDomains(val_data)\n",
    "test_data_filtered = filterDomains(test_data)"
   ]
  },
  {
   "cell_type": "code",
   "execution_count": 68,
   "metadata": {},
   "outputs": [],
   "source": [
    "def label_utterances(dialogue):\n",
    "    labeled_data = []\n",
    "    data = dialogue['turns']\n",
    "    \n",
    "    # Loop through each turn in the dialogue\n",
    "    for i, turn_id in enumerate(data['turn_id']):\n",
    "        utterance = data['utterance'][i]\n",
    "        tokens = utterance.split()  \n",
    "        labels = ['O'] * len(tokens)  # Initialize labels as 'O' (Outside)\n",
    "\n",
    "        # Check if there are slot values for this turn\n",
    "        if i < len(data['dialogue_acts']):\n",
    "            dialogue_act = data['dialogue_acts'][i]\n",
    "            span_info = dialogue_act.get('span_info', {})\n",
    "            for act_slot_name, act_slot_value, span_start, span_end in zip(\n",
    "                    span_info.get('act_slot_name', []),\n",
    "                    span_info.get('act_slot_value', []),\n",
    "                    span_info.get('span_start', []),\n",
    "                    span_info.get('span_end', [])):\n",
    "                \n",
    "                # Find the tokens that correspond to the start and end indices\n",
    "                start_token_idx = len(utterance[:span_start].split())\n",
    "                end_token_idx = len(utterance[:span_end].split()) - 1\n",
    "\n",
    "                if start_token_idx < len(labels) and end_token_idx < len(labels):\n",
    "                    # Label tokens using IOB format\n",
    "                    labels[start_token_idx] = f\"B-{act_slot_name}:{act_slot_value}\"\n",
    "                    for j in range(start_token_idx + 1, end_token_idx + 1):\n",
    "                        labels[j] = f\"I-{act_slot_name}:{act_slot_value}\"\n",
    "                else:\n",
    "                    print(f\"Warning: Index out of range for utterance '{utterance}' with span {span_start}-{span_end}\")\n",
    "\n",
    "        # Store the tokenized utterance along with its labels\n",
    "        labeled_data.append((tokens, labels))\n",
    "        \n",
    "    return labeled_data\n",
    "\n"
   ]
  },
  {
   "cell_type": "code",
   "execution_count": 72,
   "metadata": {},
   "outputs": [
    {
     "name": "stdout",
     "output_type": "stream",
     "text": [
      "Warning: Index out of range for utterance 'Not sure of that, I am looking for a restaurant named \"ask.\"' with span 55-58\n",
      "Warning: Index out of range for utterance 'Here is the information for Parkside Police Station Telephone:01223358966 Address :Parkside, Cambridge Postcode :CB11JG' with span 113-119\n",
      "Warning: Index out of range for utterance 'Sure. The address and phone number for La Mimosa is Thompsons Lane Fen Ditton/01223362525 and for Shiraz restaurant it is 84 Regent Street City Centre/01223307581.' with span 151-162\n",
      "Warning: Index out of range for utterance 'Addenbrookes Hospital is nearby. The telephone is 01223245151 and the address is Hills Rd, Cambridge,CB20QQ' with span 101-107\n",
      "Warning: Index out of range for utterance 'Here is the contact info for your police station Telephone:01223358966 Address :Parkside, Cambridge Postcode :CB11JG' with span 110-116\n",
      "Warning: Index out of range for utterance 'Here is the information for Parkside Police Station Telephone:01223358966 Address :Parkside, Cambridge Postcode :CB11JG' with span 113-119\n"
     ]
    }
   ],
   "source": [
    "import pandas as pd\n",
    "\n",
    "def toDF(data):\n",
    "    all_labeled_data = []\n",
    "    for dialogue in data:\n",
    "        all_labeled_data.extend(label_utterances(dialogue))\n",
    "    return pd.DataFrame(all_labeled_data, columns=['Tokens', 'Labels'])\n",
    "    \n",
    "    \n",
    "\n",
    "\n",
    "# Create DataFrames of labeled utterances\n",
    "train_df = toDF(train_data_filtered)\n",
    "test_df = toDF(test_data_filtered)\n",
    "val_df = toDF(val_data_filtered)"
   ]
  },
  {
   "cell_type": "code",
   "execution_count": 75,
   "metadata": {},
   "outputs": [
    {
     "name": "stdout",
     "output_type": "stream",
     "text": [
      "(28928, 2)\n"
     ]
    },
    {
     "data": {
      "text/html": [
       "<div>\n",
       "<style scoped>\n",
       "    .dataframe tbody tr th:only-of-type {\n",
       "        vertical-align: middle;\n",
       "    }\n",
       "\n",
       "    .dataframe tbody tr th {\n",
       "        vertical-align: top;\n",
       "    }\n",
       "\n",
       "    .dataframe thead th {\n",
       "        text-align: right;\n",
       "    }\n",
       "</style>\n",
       "<table border=\"1\" class=\"dataframe\">\n",
       "  <thead>\n",
       "    <tr style=\"text-align: right;\">\n",
       "      <th></th>\n",
       "      <th>Tokens</th>\n",
       "      <th>Labels</th>\n",
       "    </tr>\n",
       "  </thead>\n",
       "  <tbody>\n",
       "    <tr>\n",
       "      <th>0</th>\n",
       "      <td>[i, need, a, place, to, dine, in, the, center,...</td>\n",
       "      <td>[O, O, O, O, O, O, O, O, B-area:centre, O, B-p...</td>\n",
       "    </tr>\n",
       "    <tr>\n",
       "      <th>1</th>\n",
       "      <td>[I, have, several, options, for, you;, do, you...</td>\n",
       "      <td>[O, O, B-choice:several, O, O, O, O, O, O, B-f...</td>\n",
       "    </tr>\n",
       "    <tr>\n",
       "      <th>2</th>\n",
       "      <td>[Any, sort, of, food, would, be, fine,, as, lo...</td>\n",
       "      <td>[O, O, O, O, O, O, O, O, O, O, O, O, O, O, O, ...</td>\n",
       "    </tr>\n",
       "    <tr>\n",
       "      <th>3</th>\n",
       "      <td>[There, is, an, Afrian, place, named, Bedouin,...</td>\n",
       "      <td>[O, O, O, B-food:Afrian, O, O, B-name:Bedouin,...</td>\n",
       "    </tr>\n",
       "    <tr>\n",
       "      <th>4</th>\n",
       "      <td>[Sounds, good,, could, I, get, that, phone, nu...</td>\n",
       "      <td>[O, O, O, O, O, O, O, O, O, O, O, O, O, O, B-p...</td>\n",
       "    </tr>\n",
       "  </tbody>\n",
       "</table>\n",
       "</div>"
      ],
      "text/plain": [
       "                                              Tokens  \\\n",
       "0  [i, need, a, place, to, dine, in, the, center,...   \n",
       "1  [I, have, several, options, for, you;, do, you...   \n",
       "2  [Any, sort, of, food, would, be, fine,, as, lo...   \n",
       "3  [There, is, an, Afrian, place, named, Bedouin,...   \n",
       "4  [Sounds, good,, could, I, get, that, phone, nu...   \n",
       "\n",
       "                                              Labels  \n",
       "0  [O, O, O, O, O, O, O, O, B-area:centre, O, B-p...  \n",
       "1  [O, O, B-choice:several, O, O, O, O, O, O, B-f...  \n",
       "2  [O, O, O, O, O, O, O, O, O, O, O, O, O, O, O, ...  \n",
       "3  [O, O, O, B-food:Afrian, O, O, B-name:Bedouin,...  \n",
       "4  [O, O, O, O, O, O, O, O, O, O, O, O, O, O, B-p...  "
      ]
     },
     "execution_count": 75,
     "metadata": {},
     "output_type": "execute_result"
    }
   ],
   "source": [
    "print(train_df.shape)\n",
    "train_df.head()"
   ]
  },
  {
   "cell_type": "code",
   "execution_count": null,
   "metadata": {},
   "outputs": [],
   "source": []
  },
  {
   "cell_type": "code",
   "execution_count": null,
   "metadata": {},
   "outputs": [],
   "source": []
  }
 ],
 "metadata": {
  "kernelspec": {
   "display_name": "my-torch",
   "language": "python",
   "name": "python3"
  },
  "language_info": {
   "codemirror_mode": {
    "name": "ipython",
    "version": 3
   },
   "file_extension": ".py",
   "mimetype": "text/x-python",
   "name": "python",
   "nbconvert_exporter": "python",
   "pygments_lexer": "ipython3",
   "version": "3.9.18"
  }
 },
 "nbformat": 4,
 "nbformat_minor": 2
}
